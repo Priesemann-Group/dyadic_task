{
 "cells": [
  {
   "cell_type": "code",
   "execution_count": 70,
   "id": "24c44be2-895c-438d-84a7-1e8b02b37208",
   "metadata": {},
   "outputs": [],
   "source": [
    "import data_depositor\n",
    "import conf\n",
    "import tables"
   ]
  },
  {
   "cell_type": "markdown",
   "id": "c75b53f4-4a3b-4fd4-b49b-db93e5ecd81b",
   "metadata": {},
   "source": [
    "# Basic Data Extraction\n",
    "Each variable is a time series accross a single game run.\n",
    "\n",
    "Unintuitve Variables Encodings:\n",
    "* player_x_target_states:\n",
    "    * Before comma: Index of current target ant\n",
    "    * After comma: conquest progress\n",
    "    * Negative value if there is no current target\n",
    "    \n",
    "* ant_shares\n",
    "    * np.nan if it is an competitive target ant\n",
    "    * np.float64 percentage shares of player_0 of an collaborative target ant"
   ]
  },
  {
   "cell_type": "code",
   "execution_count": 75,
   "id": "180d023c-82bc-4457-96d0-c49026d4e9a2",
   "metadata": {},
   "outputs": [],
   "source": [
    "path = data_depositor.get_output_path()\n",
    "file = tables.open_file(path, mode='r')\n",
    "\n",
    "data = file.root.data\n",
    "\n",
    "\n",
    "score_data  = data[:, 2]\n",
    "ant_data    = data[:,3:] \n",
    "player_data = data[:,:2]\n",
    "\n",
    "\n",
    "player_0_positions = player_data[:, 0,: 2]\n",
    "player_1_positions = player_data[:, 1,: 2]\n",
    "\n",
    "player_0_target_states = player_data[:, 0, 2] \n",
    "player_1_target_states = player_data[:, 1, 2]\n",
    "\n",
    "player_0_scores = score_data[:, 0]\n",
    "player_1_scores = score_data[:, 1]\n",
    "\n",
    "ant_x_positions = ant_data[:,:, 0]\n",
    "ant_y_positions = ant_data[:,:, 1]\n",
    "ant_radians     = ant_data[:,:, 2]\n",
    "ant_shares      = ant_data[:,:, 3]"
   ]
  }
 ],
 "metadata": {
  "kernelspec": {
   "display_name": "Python 3",
   "language": "python",
   "name": "python3"
  },
  "language_info": {
   "codemirror_mode": {
    "name": "ipython",
    "version": 3
   },
   "file_extension": ".py",
   "mimetype": "text/x-python",
   "name": "python",
   "nbconvert_exporter": "python",
   "pygments_lexer": "ipython3",
   "version": "3.9.4"
  }
 },
 "nbformat": 4,
 "nbformat_minor": 5
}

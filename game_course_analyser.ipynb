{
 "cells": [
  {
   "cell_type": "code",
   "execution_count": 32,
   "id": "24c44be2-895c-438d-84a7-1e8b02b37208",
   "metadata": {},
   "outputs": [],
   "source": [
    "#from src.backend import data_depositor\n",
    "from src.configuration import conf\n",
    "import tables\n",
    "import matplotlib.pyplot as plt\n",
    "import os\n",
    "import numpy as np"
   ]
  },
  {
   "cell_type": "markdown",
   "id": "c75b53f4-4a3b-4fd4-b49b-db93e5ecd81b",
   "metadata": {},
   "source": [
    "# Basic Data Extraction\n",
    "Each variable is a time series accross a single game run.\n",
    "\n",
    "Unintuitve Variables Encodings:\n",
    "* player_x_target_states:\n",
    "  * Before comma: Index of current target ant\n",
    "  * After comma: conquest progress\n",
    "  * Negative value if there is no current target\n",
    "\n",
    "* player_x_score_states:\n",
    "  * Encodes the score popup animation\n",
    "  * Before comma: Score to show\n",
    "  * After comma: animation progress\n",
    "  * Nan if there the popup animation is not shown\n",
    "   \n",
    "   \n",
    "* ant_shares\n",
    "  * np.nan if it is an competitive target\n",
    "  * np.float64 percentage of the share of player_0 of an collaborative target"
   ]
  },
  {
   "cell_type": "code",
   "execution_count": 33,
   "id": "a880c24b-b2ff-41c6-9a03-be40b3c61245",
   "metadata": {},
   "outputs": [
    {
     "name": "stdout",
     "output_type": "stream",
     "text": [
      "gs_20-05-21_11-46-45.h5\n",
      ".ipynb_checkpoints\n"
     ]
    }
   ],
   "source": [
    "# Print game course data sets\n",
    "output_dir_path = os.path.abspath('') + '/' + conf.output_folder_name\n",
    "files = os.listdir(output_dir_path)\n",
    "for f in files:\n",
    "    print(f)"
   ]
  },
  {
   "cell_type": "code",
   "execution_count": 34,
   "id": "65bb67c7-bbbd-4cf6-8fa8-2a32ae116a66",
   "metadata": {},
   "outputs": [],
   "source": [
    "def file_to_data_dict(file):\n",
    "    data = file.root.data\n",
    "        \n",
    "    general_data = data[:, 0]\n",
    "    player_data  = data[:,1:3]\n",
    "    score_data   = data[:, 3]\n",
    "    ant_data     = data[:,4:] \n",
    "    \n",
    "    return {\n",
    "        \n",
    "        'player_0_scale_factors' : general_data[:, 0],\n",
    "        'player_1_scale_factors' : general_data[:, 1],\n",
    "        'timestamps'             : general_data[:, 2],\n",
    "        \n",
    "        'player_0_positions' : player_data[:, 0,: 2],\n",
    "        'player_1_positions' : player_data[:, 1,: 2],\n",
    "\n",
    "        'player_0_target_states' : player_data[:, 0, 2],\n",
    "        'player_1_target_states' : player_data[:, 1, 2],\n",
    "        \n",
    "        'player_0_pings' : player_data[:, 0, 3],\n",
    "        'player_1_pings' : player_data[:, 1, 3],\n",
    "\n",
    "        'player_0_scores' : score_data[:, 0],\n",
    "        'player_1_scores' : score_data[:, 1],\n",
    "        \n",
    "        'player_0_score_state' : score_data[:, 2],\n",
    "        'player_1_score_state' : score_data[:, 3],\n",
    "\n",
    "        'ant_x_positions' : ant_data[:,:, 0],\n",
    "        'ant_y_positions' : ant_data[:,:, 1],\n",
    "        'ant_radians'     : ant_data[:,:, 2],\n",
    "        'ant_shares'      : ant_data[:,:, 3]\n",
    "    }\n",
    "\n",
    "path = output_dir_path + '/' + files[0]\n",
    "file = tables.open_file(path, mode='r')\n",
    "game_data = file_to_data_dict(file)\n"
   ]
  },
  {
   "cell_type": "code",
   "execution_count": 35,
   "id": "65c4c159-313f-4e18-b52f-9ac679b37327",
   "metadata": {},
   "outputs": [
    {
     "name": "stdout",
     "output_type": "stream",
     "text": [
      "Actual Value: 19.981634378433228\n",
      "Target Value: 20\n",
      "Difference in time mean actual Value: 0.016665249690102774\n",
      "Difference in time mean target Value: 0.016666666666666666\n",
      "Difference in time standard derivation: 0.00077258915011397\n"
     ]
    }
   ],
   "source": [
    "def check_reliability_in_time(timestamps):\n",
    "    recording_duration = timestamps[-1] - timestamps[0]\n",
    "    diff = np.zeros(len(timestamps)-1)\n",
    "    for i in range(len(timestamps)-1):\n",
    "        diff[i] = timestamps[i+1] - timestamps[i]\n",
    "    print(f'Actual Value: {recording_duration}')\n",
    "    print(f'Target Value: {conf.lap_time}')\n",
    "    print(f'Difference in time mean actual Value: {diff.mean()}')\n",
    "    print(f'Difference in time mean target Value: {1 / conf.pos_updates_ps}')\n",
    "    print(f'Difference in time standard derivation: {diff.std()}')\n",
    "    \n",
    "    #Actual - Target Value history\n",
    "    #.89\n",
    "    #.77 preproduce game_states\n",
    "    #.45 use exponential moving average improve time scheduling\n",
    "    #.38 the same as above but no ping requests and no player movement\n",
    "    #-.02 rewrote server and introduced new game scheduler with own thread,\n",
    "    # no moving averages or preprocessing requiered!\n",
    "\n",
    "check_reliability_in_time(game_data['timestamps'])"
   ]
  },
  {
   "cell_type": "code",
   "execution_count": 36,
   "id": "2a5f2337-97b9-45f1-ae8b-f5ed462faf46",
   "metadata": {},
   "outputs": [
    {
     "name": "stdout",
     "output_type": "stream",
     "text": [
      "Initial client field sizes:\n",
      "player 1 1050 590\n",
      "player 2 858 482\n"
     ]
    }
   ],
   "source": [
    "def print_client_field_sizes(game_data):\n",
    "    print('Initial client field sizes:')\n",
    "    sf = [game_data['player_0_scale_factors'][0], game_data['player_1_scale_factors'][0]]\n",
    "    field_server_width, field_server_height = conf.field_size\n",
    "    print(f'player 1 {int(field_server_width * sf[0])} {int(field_server_height * sf[0])}')\n",
    "    print(f'player 2 {int(field_server_width * sf[1])} {int(field_server_height * sf[1])}')\n",
    "    \n",
    "print_client_field_sizes(game_data)"
   ]
  },
  {
   "cell_type": "code",
   "execution_count": 37,
   "id": "0dbf59a6-bd0d-435a-bc64-5daa9e1f1baa",
   "metadata": {},
   "outputs": [
    {
     "data": {
      "image/png": "[encoded data removed]",
      "text/plain": [
       "<Figure size 1152x576 with 2 Axes>"
      ]
     },
     "metadata": {
      "needs_background": "light"
     },
     "output_type": "display_data"
    }
   ],
   "source": [
    "def plot_ping_and_score(game_data):\n",
    "    fig, (ax1, ax2) = plt.subplots(nrows=2, ncols=1, figsize=((16,8)))\n",
    "    ax1.set_xlabel(f'Iteration ({conf.pos_updates_ps} per second)')\n",
    "    ax1.set_ylabel('Score')\n",
    "    ax1.plot(game_data['player_0_scores'], label='player 0')\n",
    "    ax1.plot(game_data['player_1_scores'], label='player 1')\n",
    "    ax1.legend()\n",
    "    ax2.set_xlabel(f'Iteration ({conf.pos_updates_ps} per second)')\n",
    "    ax2.set_ylabel('Ping')\n",
    "    ax2.plot(game_data['player_0_pings'], label='player 0')\n",
    "    ax2.plot(game_data['player_1_pings'], label='player 1')\n",
    "    ax2.legend()\n",
    "    \n",
    "plot_ping_and_score(game_data)"
   ]
  },
  {
   "cell_type": "code",
   "execution_count": null,
   "id": "485ed6bf-0859-4430-981b-ab0520736a67",
   "metadata": {},
   "outputs": [],
   "source": []
  }
 ],
 "metadata": {
  "kernelspec": {
   "display_name": "Python 3",
   "language": "python",
   "name": "python3"
  },
  "language_info": {
   "codemirror_mode": {
    "name": "ipython",
    "version": 3
   },
   "file_extension": ".py",
   "mimetype": "text/x-python",
   "name": "python",
   "nbconvert_exporter": "python",
   "pygments_lexer": "ipython3",
   "version": "3.9.5"
  }
 },
 "nbformat": 4,
 "nbformat_minor": 5
}
